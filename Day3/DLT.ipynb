{
 "cells": [
  {
   "cell_type": "code",
   "execution_count": 0,
   "metadata": {
    "application/vnd.databricks.v1+cell": {
     "cellMetadata": {
      "byteLimit": 2048000,
      "rowLimit": 10000
     },
     "inputWidgets": {},
     "nuid": "e0cce1bd-672f-4f38-9cad-28ff0b8b2d0b",
     "showTitle": true,
     "tableResultSettingsMap": {},
     "title": "Ingestion"
    }
   },
   "outputs": [],
   "source": [
    "create streaming table sales_pipeline as \n",
    "select *, current_timestamp() as ingestion_date from stream read_files(\n",
    "  's3://jpmctraining/raw/sales',\n",
    "  format => 'csv'\n",
    ");\n",
    "\n",
    "\n",
    "create streaming table product_pipeline as \n",
    "select *, current_timestamp() as ingestion_date from stream read_files(\n",
    "  's3://jpmctraining/raw/products',\n",
    "  format => 'csv'\n",
    ");\n",
    "\n",
    "\n",
    "create streaming table customer_pipeline as \n",
    "select *, current_timestamp() as ingestion_date from stream read_files(\n",
    "  's3://jpmctraining/raw/customers',\n",
    "  format => 'csv'\n",
    ");"
   ]
  },
  {
   "cell_type": "code",
   "execution_count": 0,
   "metadata": {
    "application/vnd.databricks.v1+cell": {
     "cellMetadata": {},
     "inputWidgets": {},
     "nuid": "e8b100ab-b755-4d56-b663-514ff1e8a2e4",
     "showTitle": false,
     "tableResultSettingsMap": {},
     "title": ""
    }
   },
   "outputs": [],
   "source": [
    "create streaming table mahesh_silver.sales_silver  \n",
    "(CONSTRAINT valid_order_id EXPECT (order_id IS NOT NULL) ON VIOLATION DROP ROW) as\n",
    "select distinct * except (ingestion_date, _rescued_data) from stream mahesh_bronze.sales_pipeline"
   ]
  },
  {
   "cell_type": "code",
   "execution_count": 0,
   "metadata": {
    "application/vnd.databricks.v1+cell": {
     "cellMetadata": {},
     "inputWidgets": {},
     "nuid": "7d9265c7-7053-4782-a65d-c4b3fc116f9d",
     "showTitle": false,
     "tableResultSettingsMap": {},
     "title": ""
    }
   },
   "outputs": [],
   "source": [
    "-- Create and populate the target table.\n",
    "CREATE OR REFRESH STREAMING TABLE mahesh_silver.product_silver;\n",
    "\n",
    "APPLY CHANGES INTO\n",
    "  mahesh_silver.product_silver\n",
    "FROM\n",
    "  stream(mahesh_bronze.product_pipeline)\n",
    "KEYS\n",
    "  (product_id)\n",
    "APPLY AS DELETE WHEN\n",
    "  operation = \"DELETE\"\n",
    "SEQUENCE BY\n",
    "  seqNum\n",
    "COLUMNS * EXCEPT\n",
    "  (operation, seqNum,_rescued_data,ingestion_date)\n",
    "STORED AS\n",
    "  SCD TYPE 1;"
   ]
  },
  {
   "cell_type": "code",
   "execution_count": 0,
   "metadata": {
    "application/vnd.databricks.v1+cell": {
     "cellMetadata": {},
     "inputWidgets": {},
     "nuid": "0f70f049-f050-4600-b235-ecfe54199351",
     "showTitle": false,
     "tableResultSettingsMap": {},
     "title": ""
    }
   },
   "outputs": [],
   "source": [
    "-- Create and populate the target table.\n",
    "CREATE OR REFRESH STREAMING TABLE mahesh_silver.customer_silver;\n",
    "\n",
    "APPLY CHANGES INTO\n",
    "  mahesh_silver.customer_silver\n",
    "FROM\n",
    "  stream(mahesh_bronze.customer_pipeline)\n",
    "KEYS\n",
    "  (customer_id)\n",
    "APPLY AS DELETE WHEN\n",
    "  operation = \"DELETE\"\n",
    "SEQUENCE BY\n",
    "  sequenceNum\n",
    "COLUMNS * EXCEPT\n",
    "  (operation, sequenceNum,_rescued_data,ingestion_date)\n",
    "STORED AS\n",
    "  SCD TYPE 2;"
   ]
  },
  {
   "cell_type": "code",
   "execution_count": 0,
   "metadata": {
    "application/vnd.databricks.v1+cell": {
     "cellMetadata": {},
     "inputWidgets": {},
     "nuid": "646f72df-2a5e-4f79-ac23-20b941c0e0d5",
     "showTitle": false,
     "tableResultSettingsMap": {},
     "title": ""
    }
   },
   "outputs": [],
   "source": [
    "create materialized view mahesh_gold.customer_active as \n",
    "select * from mahesh_silver.customer_silver where `__END_AT` is null"
   ]
  }
 ],
 "metadata": {
  "application/vnd.databricks.v1+notebook": {
   "computePreferences": null,
   "dashboards": [],
   "environmentMetadata": {
    "base_environment": "",
    "environment_version": "2"
   },
   "inputWidgetPreferences": null,
   "language": "sql",
   "notebookMetadata": {
    "pythonIndentUnit": 4
   },
   "notebookName": "DLT",
   "widgets": {}
  },
  "language_info": {
   "name": "sql"
  }
 },
 "nbformat": 4,
 "nbformat_minor": 0
}
